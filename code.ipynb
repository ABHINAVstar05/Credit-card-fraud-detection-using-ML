{
 "cells": [
  {
   "cell_type": "markdown",
   "metadata": {},
   "source": [
    "Importing required libraries"
   ]
  },
  {
   "cell_type": "code",
   "execution_count": 1,
   "metadata": {},
   "outputs": [],
   "source": [
    "import pandas as pd\n",
    "import seaborn as sns\n",
    "import matplotlib.pyplot as plt\n",
    "import datetime as dt\n",
    "from sklearn.model_selection import train_test_split\n",
    "from sklearn import tree\n",
    "from sklearn.metrics import confusion_matrix, classification_report\n",
    "\n",
    "sns.set(rc = {'figure.figsize':(20,7)})"
   ]
  },
  {
   "cell_type": "markdown",
   "metadata": {},
   "source": [
    "Getting started with datasets"
   ]
  },
  {
   "cell_type": "code",
   "execution_count": 2,
   "metadata": {},
   "outputs": [
    {
     "name": "stdout",
     "output_type": "stream",
     "text": [
      "(1296675, 23) (555719, 23) (1852394, 23)\n"
     ]
    }
   ],
   "source": [
    "df1 = pd.read_csv('Dataset/fraudTrain.csv', index_col=False)\n",
    "df2 = pd.read_csv('Dataset/fraudTest.csv', index_col=False)\n",
    "\n",
    "data = pd.concat([df1, df2])\n",
    "\n",
    "print(df1.shape, df2.shape, data.shape)"
   ]
  },
  {
   "cell_type": "code",
   "execution_count": 3,
   "metadata": {},
   "outputs": [
    {
     "name": "stdout",
     "output_type": "stream",
     "text": [
      "Head of dataset : \n"
     ]
    },
    {
     "data": {
      "text/html": [
       "<div>\n",
       "<style scoped>\n",
       "    .dataframe tbody tr th:only-of-type {\n",
       "        vertical-align: middle;\n",
       "    }\n",
       "\n",
       "    .dataframe tbody tr th {\n",
       "        vertical-align: top;\n",
       "    }\n",
       "\n",
       "    .dataframe thead th {\n",
       "        text-align: right;\n",
       "    }\n",
       "</style>\n",
       "<table border=\"1\" class=\"dataframe\">\n",
       "  <thead>\n",
       "    <tr style=\"text-align: right;\">\n",
       "      <th></th>\n",
       "      <th>Unnamed: 0</th>\n",
       "      <th>trans_date_trans_time</th>\n",
       "      <th>cc_num</th>\n",
       "      <th>merchant</th>\n",
       "      <th>category</th>\n",
       "      <th>amt</th>\n",
       "      <th>first</th>\n",
       "      <th>last</th>\n",
       "      <th>gender</th>\n",
       "      <th>street</th>\n",
       "      <th>...</th>\n",
       "      <th>lat</th>\n",
       "      <th>long</th>\n",
       "      <th>city_pop</th>\n",
       "      <th>job</th>\n",
       "      <th>dob</th>\n",
       "      <th>trans_num</th>\n",
       "      <th>unix_time</th>\n",
       "      <th>merch_lat</th>\n",
       "      <th>merch_long</th>\n",
       "      <th>is_fraud</th>\n",
       "    </tr>\n",
       "  </thead>\n",
       "  <tbody>\n",
       "    <tr>\n",
       "      <th>0</th>\n",
       "      <td>0</td>\n",
       "      <td>2019-01-01 00:00:18</td>\n",
       "      <td>2703186189652095</td>\n",
       "      <td>fraud_Rippin, Kub and Mann</td>\n",
       "      <td>misc_net</td>\n",
       "      <td>4.97</td>\n",
       "      <td>Jennifer</td>\n",
       "      <td>Banks</td>\n",
       "      <td>F</td>\n",
       "      <td>561 Perry Cove</td>\n",
       "      <td>...</td>\n",
       "      <td>36.0788</td>\n",
       "      <td>-81.1781</td>\n",
       "      <td>3495</td>\n",
       "      <td>Psychologist, counselling</td>\n",
       "      <td>1988-03-09</td>\n",
       "      <td>0b242abb623afc578575680df30655b9</td>\n",
       "      <td>1325376018</td>\n",
       "      <td>36.011293</td>\n",
       "      <td>-82.048315</td>\n",
       "      <td>0</td>\n",
       "    </tr>\n",
       "    <tr>\n",
       "      <th>1</th>\n",
       "      <td>1</td>\n",
       "      <td>2019-01-01 00:00:44</td>\n",
       "      <td>630423337322</td>\n",
       "      <td>fraud_Heller, Gutmann and Zieme</td>\n",
       "      <td>grocery_pos</td>\n",
       "      <td>107.23</td>\n",
       "      <td>Stephanie</td>\n",
       "      <td>Gill</td>\n",
       "      <td>F</td>\n",
       "      <td>43039 Riley Greens Suite 393</td>\n",
       "      <td>...</td>\n",
       "      <td>48.8878</td>\n",
       "      <td>-118.2105</td>\n",
       "      <td>149</td>\n",
       "      <td>Special educational needs teacher</td>\n",
       "      <td>1978-06-21</td>\n",
       "      <td>1f76529f8574734946361c461b024d99</td>\n",
       "      <td>1325376044</td>\n",
       "      <td>49.159047</td>\n",
       "      <td>-118.186462</td>\n",
       "      <td>0</td>\n",
       "    </tr>\n",
       "    <tr>\n",
       "      <th>2</th>\n",
       "      <td>2</td>\n",
       "      <td>2019-01-01 00:00:51</td>\n",
       "      <td>38859492057661</td>\n",
       "      <td>fraud_Lind-Buckridge</td>\n",
       "      <td>entertainment</td>\n",
       "      <td>220.11</td>\n",
       "      <td>Edward</td>\n",
       "      <td>Sanchez</td>\n",
       "      <td>M</td>\n",
       "      <td>594 White Dale Suite 530</td>\n",
       "      <td>...</td>\n",
       "      <td>42.1808</td>\n",
       "      <td>-112.2620</td>\n",
       "      <td>4154</td>\n",
       "      <td>Nature conservation officer</td>\n",
       "      <td>1962-01-19</td>\n",
       "      <td>a1a22d70485983eac12b5b88dad1cf95</td>\n",
       "      <td>1325376051</td>\n",
       "      <td>43.150704</td>\n",
       "      <td>-112.154481</td>\n",
       "      <td>0</td>\n",
       "    </tr>\n",
       "    <tr>\n",
       "      <th>3</th>\n",
       "      <td>3</td>\n",
       "      <td>2019-01-01 00:01:16</td>\n",
       "      <td>3534093764340240</td>\n",
       "      <td>fraud_Kutch, Hermiston and Farrell</td>\n",
       "      <td>gas_transport</td>\n",
       "      <td>45.00</td>\n",
       "      <td>Jeremy</td>\n",
       "      <td>White</td>\n",
       "      <td>M</td>\n",
       "      <td>9443 Cynthia Court Apt. 038</td>\n",
       "      <td>...</td>\n",
       "      <td>46.2306</td>\n",
       "      <td>-112.1138</td>\n",
       "      <td>1939</td>\n",
       "      <td>Patent attorney</td>\n",
       "      <td>1967-01-12</td>\n",
       "      <td>6b849c168bdad6f867558c3793159a81</td>\n",
       "      <td>1325376076</td>\n",
       "      <td>47.034331</td>\n",
       "      <td>-112.561071</td>\n",
       "      <td>0</td>\n",
       "    </tr>\n",
       "    <tr>\n",
       "      <th>4</th>\n",
       "      <td>4</td>\n",
       "      <td>2019-01-01 00:03:06</td>\n",
       "      <td>375534208663984</td>\n",
       "      <td>fraud_Keeling-Crist</td>\n",
       "      <td>misc_pos</td>\n",
       "      <td>41.96</td>\n",
       "      <td>Tyler</td>\n",
       "      <td>Garcia</td>\n",
       "      <td>M</td>\n",
       "      <td>408 Bradley Rest</td>\n",
       "      <td>...</td>\n",
       "      <td>38.4207</td>\n",
       "      <td>-79.4629</td>\n",
       "      <td>99</td>\n",
       "      <td>Dance movement psychotherapist</td>\n",
       "      <td>1986-03-28</td>\n",
       "      <td>a41d7549acf90789359a9aa5346dcb46</td>\n",
       "      <td>1325376186</td>\n",
       "      <td>38.674999</td>\n",
       "      <td>-78.632459</td>\n",
       "      <td>0</td>\n",
       "    </tr>\n",
       "  </tbody>\n",
       "</table>\n",
       "<p>5 rows × 23 columns</p>\n",
       "</div>"
      ],
      "text/plain": [
       "   Unnamed: 0 trans_date_trans_time            cc_num  \\\n",
       "0           0   2019-01-01 00:00:18  2703186189652095   \n",
       "1           1   2019-01-01 00:00:44      630423337322   \n",
       "2           2   2019-01-01 00:00:51    38859492057661   \n",
       "3           3   2019-01-01 00:01:16  3534093764340240   \n",
       "4           4   2019-01-01 00:03:06   375534208663984   \n",
       "\n",
       "                             merchant       category     amt      first  \\\n",
       "0          fraud_Rippin, Kub and Mann       misc_net    4.97   Jennifer   \n",
       "1     fraud_Heller, Gutmann and Zieme    grocery_pos  107.23  Stephanie   \n",
       "2                fraud_Lind-Buckridge  entertainment  220.11     Edward   \n",
       "3  fraud_Kutch, Hermiston and Farrell  gas_transport   45.00     Jeremy   \n",
       "4                 fraud_Keeling-Crist       misc_pos   41.96      Tyler   \n",
       "\n",
       "      last gender                        street  ...      lat      long  \\\n",
       "0    Banks      F                561 Perry Cove  ...  36.0788  -81.1781   \n",
       "1     Gill      F  43039 Riley Greens Suite 393  ...  48.8878 -118.2105   \n",
       "2  Sanchez      M      594 White Dale Suite 530  ...  42.1808 -112.2620   \n",
       "3    White      M   9443 Cynthia Court Apt. 038  ...  46.2306 -112.1138   \n",
       "4   Garcia      M              408 Bradley Rest  ...  38.4207  -79.4629   \n",
       "\n",
       "   city_pop                                job         dob  \\\n",
       "0      3495          Psychologist, counselling  1988-03-09   \n",
       "1       149  Special educational needs teacher  1978-06-21   \n",
       "2      4154        Nature conservation officer  1962-01-19   \n",
       "3      1939                    Patent attorney  1967-01-12   \n",
       "4        99     Dance movement psychotherapist  1986-03-28   \n",
       "\n",
       "                          trans_num   unix_time  merch_lat  merch_long  \\\n",
       "0  0b242abb623afc578575680df30655b9  1325376018  36.011293  -82.048315   \n",
       "1  1f76529f8574734946361c461b024d99  1325376044  49.159047 -118.186462   \n",
       "2  a1a22d70485983eac12b5b88dad1cf95  1325376051  43.150704 -112.154481   \n",
       "3  6b849c168bdad6f867558c3793159a81  1325376076  47.034331 -112.561071   \n",
       "4  a41d7549acf90789359a9aa5346dcb46  1325376186  38.674999  -78.632459   \n",
       "\n",
       "   is_fraud  \n",
       "0         0  \n",
       "1         0  \n",
       "2         0  \n",
       "3         0  \n",
       "4         0  \n",
       "\n",
       "[5 rows x 23 columns]"
      ]
     },
     "execution_count": 3,
     "metadata": {},
     "output_type": "execute_result"
    }
   ],
   "source": [
    "print(\"Head of dataset : \")\n",
    "data.head()"
   ]
  },
  {
   "cell_type": "code",
   "execution_count": 4,
   "metadata": {},
   "outputs": [
    {
     "name": "stdout",
     "output_type": "stream",
     "text": [
      "Tail of dataset : \n"
     ]
    },
    {
     "data": {
      "text/html": [
       "<div>\n",
       "<style scoped>\n",
       "    .dataframe tbody tr th:only-of-type {\n",
       "        vertical-align: middle;\n",
       "    }\n",
       "\n",
       "    .dataframe tbody tr th {\n",
       "        vertical-align: top;\n",
       "    }\n",
       "\n",
       "    .dataframe thead th {\n",
       "        text-align: right;\n",
       "    }\n",
       "</style>\n",
       "<table border=\"1\" class=\"dataframe\">\n",
       "  <thead>\n",
       "    <tr style=\"text-align: right;\">\n",
       "      <th></th>\n",
       "      <th>Unnamed: 0</th>\n",
       "      <th>trans_date_trans_time</th>\n",
       "      <th>cc_num</th>\n",
       "      <th>merchant</th>\n",
       "      <th>category</th>\n",
       "      <th>amt</th>\n",
       "      <th>first</th>\n",
       "      <th>last</th>\n",
       "      <th>gender</th>\n",
       "      <th>street</th>\n",
       "      <th>...</th>\n",
       "      <th>lat</th>\n",
       "      <th>long</th>\n",
       "      <th>city_pop</th>\n",
       "      <th>job</th>\n",
       "      <th>dob</th>\n",
       "      <th>trans_num</th>\n",
       "      <th>unix_time</th>\n",
       "      <th>merch_lat</th>\n",
       "      <th>merch_long</th>\n",
       "      <th>is_fraud</th>\n",
       "    </tr>\n",
       "  </thead>\n",
       "  <tbody>\n",
       "    <tr>\n",
       "      <th>555714</th>\n",
       "      <td>555714</td>\n",
       "      <td>2020-12-31 23:59:07</td>\n",
       "      <td>30560609640617</td>\n",
       "      <td>fraud_Reilly and Sons</td>\n",
       "      <td>health_fitness</td>\n",
       "      <td>43.77</td>\n",
       "      <td>Michael</td>\n",
       "      <td>Olson</td>\n",
       "      <td>M</td>\n",
       "      <td>558 Michael Estates</td>\n",
       "      <td>...</td>\n",
       "      <td>40.4931</td>\n",
       "      <td>-91.8912</td>\n",
       "      <td>519</td>\n",
       "      <td>Town planner</td>\n",
       "      <td>1966-02-13</td>\n",
       "      <td>9b1f753c79894c9f4b71f04581835ada</td>\n",
       "      <td>1388534347</td>\n",
       "      <td>39.946837</td>\n",
       "      <td>-91.333331</td>\n",
       "      <td>0</td>\n",
       "    </tr>\n",
       "    <tr>\n",
       "      <th>555715</th>\n",
       "      <td>555715</td>\n",
       "      <td>2020-12-31 23:59:09</td>\n",
       "      <td>3556613125071656</td>\n",
       "      <td>fraud_Hoppe-Parisian</td>\n",
       "      <td>kids_pets</td>\n",
       "      <td>111.84</td>\n",
       "      <td>Jose</td>\n",
       "      <td>Vasquez</td>\n",
       "      <td>M</td>\n",
       "      <td>572 Davis Mountains</td>\n",
       "      <td>...</td>\n",
       "      <td>29.0393</td>\n",
       "      <td>-95.4401</td>\n",
       "      <td>28739</td>\n",
       "      <td>Futures trader</td>\n",
       "      <td>1999-12-27</td>\n",
       "      <td>2090647dac2c89a1d86c514c427f5b91</td>\n",
       "      <td>1388534349</td>\n",
       "      <td>29.661049</td>\n",
       "      <td>-96.186633</td>\n",
       "      <td>0</td>\n",
       "    </tr>\n",
       "    <tr>\n",
       "      <th>555716</th>\n",
       "      <td>555716</td>\n",
       "      <td>2020-12-31 23:59:15</td>\n",
       "      <td>6011724471098086</td>\n",
       "      <td>fraud_Rau-Robel</td>\n",
       "      <td>kids_pets</td>\n",
       "      <td>86.88</td>\n",
       "      <td>Ann</td>\n",
       "      <td>Lawson</td>\n",
       "      <td>F</td>\n",
       "      <td>144 Evans Islands Apt. 683</td>\n",
       "      <td>...</td>\n",
       "      <td>46.1966</td>\n",
       "      <td>-118.9017</td>\n",
       "      <td>3684</td>\n",
       "      <td>Musician</td>\n",
       "      <td>1981-11-29</td>\n",
       "      <td>6c5b7c8add471975aa0fec023b2e8408</td>\n",
       "      <td>1388534355</td>\n",
       "      <td>46.658340</td>\n",
       "      <td>-119.715054</td>\n",
       "      <td>0</td>\n",
       "    </tr>\n",
       "    <tr>\n",
       "      <th>555717</th>\n",
       "      <td>555717</td>\n",
       "      <td>2020-12-31 23:59:24</td>\n",
       "      <td>4079773899158</td>\n",
       "      <td>fraud_Breitenberg LLC</td>\n",
       "      <td>travel</td>\n",
       "      <td>7.99</td>\n",
       "      <td>Eric</td>\n",
       "      <td>Preston</td>\n",
       "      <td>M</td>\n",
       "      <td>7020 Doyle Stream Apt. 951</td>\n",
       "      <td>...</td>\n",
       "      <td>44.6255</td>\n",
       "      <td>-116.4493</td>\n",
       "      <td>129</td>\n",
       "      <td>Cartographer</td>\n",
       "      <td>1965-12-15</td>\n",
       "      <td>14392d723bb7737606b2700ac791b7aa</td>\n",
       "      <td>1388534364</td>\n",
       "      <td>44.470525</td>\n",
       "      <td>-117.080888</td>\n",
       "      <td>0</td>\n",
       "    </tr>\n",
       "    <tr>\n",
       "      <th>555718</th>\n",
       "      <td>555718</td>\n",
       "      <td>2020-12-31 23:59:34</td>\n",
       "      <td>4170689372027579</td>\n",
       "      <td>fraud_Dare-Marvin</td>\n",
       "      <td>entertainment</td>\n",
       "      <td>38.13</td>\n",
       "      <td>Samuel</td>\n",
       "      <td>Frey</td>\n",
       "      <td>M</td>\n",
       "      <td>830 Myers Plaza Apt. 384</td>\n",
       "      <td>...</td>\n",
       "      <td>35.6665</td>\n",
       "      <td>-97.4798</td>\n",
       "      <td>116001</td>\n",
       "      <td>Media buyer</td>\n",
       "      <td>1993-05-10</td>\n",
       "      <td>1765bb45b3aa3224b4cdcb6e7a96cee3</td>\n",
       "      <td>1388534374</td>\n",
       "      <td>36.210097</td>\n",
       "      <td>-97.036372</td>\n",
       "      <td>0</td>\n",
       "    </tr>\n",
       "  </tbody>\n",
       "</table>\n",
       "<p>5 rows × 23 columns</p>\n",
       "</div>"
      ],
      "text/plain": [
       "        Unnamed: 0 trans_date_trans_time            cc_num  \\\n",
       "555714      555714   2020-12-31 23:59:07    30560609640617   \n",
       "555715      555715   2020-12-31 23:59:09  3556613125071656   \n",
       "555716      555716   2020-12-31 23:59:15  6011724471098086   \n",
       "555717      555717   2020-12-31 23:59:24     4079773899158   \n",
       "555718      555718   2020-12-31 23:59:34  4170689372027579   \n",
       "\n",
       "                     merchant        category     amt    first     last  \\\n",
       "555714  fraud_Reilly and Sons  health_fitness   43.77  Michael    Olson   \n",
       "555715   fraud_Hoppe-Parisian       kids_pets  111.84     Jose  Vasquez   \n",
       "555716        fraud_Rau-Robel       kids_pets   86.88      Ann   Lawson   \n",
       "555717  fraud_Breitenberg LLC          travel    7.99     Eric  Preston   \n",
       "555718      fraud_Dare-Marvin   entertainment   38.13   Samuel     Frey   \n",
       "\n",
       "       gender                      street  ...      lat      long  city_pop  \\\n",
       "555714      M         558 Michael Estates  ...  40.4931  -91.8912       519   \n",
       "555715      M         572 Davis Mountains  ...  29.0393  -95.4401     28739   \n",
       "555716      F  144 Evans Islands Apt. 683  ...  46.1966 -118.9017      3684   \n",
       "555717      M  7020 Doyle Stream Apt. 951  ...  44.6255 -116.4493       129   \n",
       "555718      M    830 Myers Plaza Apt. 384  ...  35.6665  -97.4798    116001   \n",
       "\n",
       "                   job         dob                         trans_num  \\\n",
       "555714    Town planner  1966-02-13  9b1f753c79894c9f4b71f04581835ada   \n",
       "555715  Futures trader  1999-12-27  2090647dac2c89a1d86c514c427f5b91   \n",
       "555716        Musician  1981-11-29  6c5b7c8add471975aa0fec023b2e8408   \n",
       "555717    Cartographer  1965-12-15  14392d723bb7737606b2700ac791b7aa   \n",
       "555718     Media buyer  1993-05-10  1765bb45b3aa3224b4cdcb6e7a96cee3   \n",
       "\n",
       "         unix_time  merch_lat  merch_long  is_fraud  \n",
       "555714  1388534347  39.946837  -91.333331         0  \n",
       "555715  1388534349  29.661049  -96.186633         0  \n",
       "555716  1388534355  46.658340 -119.715054         0  \n",
       "555717  1388534364  44.470525 -117.080888         0  \n",
       "555718  1388534374  36.210097  -97.036372         0  \n",
       "\n",
       "[5 rows x 23 columns]"
      ]
     },
     "execution_count": 4,
     "metadata": {},
     "output_type": "execute_result"
    }
   ],
   "source": [
    "print(\"Tail of dataset : \")\n",
    "data.tail()"
   ]
  },
  {
   "cell_type": "markdown",
   "metadata": {},
   "source": [
    "Analyzing the dataset"
   ]
  },
  {
   "cell_type": "code",
   "execution_count": 5,
   "metadata": {},
   "outputs": [
    {
     "data": {
      "text/plain": [
       "Unnamed: 0               0\n",
       "trans_date_trans_time    0\n",
       "cc_num                   0\n",
       "merchant                 0\n",
       "category                 0\n",
       "amt                      0\n",
       "first                    0\n",
       "last                     0\n",
       "gender                   0\n",
       "street                   0\n",
       "city                     0\n",
       "state                    0\n",
       "zip                      0\n",
       "lat                      0\n",
       "long                     0\n",
       "city_pop                 0\n",
       "job                      0\n",
       "dob                      0\n",
       "trans_num                0\n",
       "unix_time                0\n",
       "merch_lat                0\n",
       "merch_long               0\n",
       "is_fraud                 0\n",
       "dtype: int64"
      ]
     },
     "execution_count": 5,
     "metadata": {},
     "output_type": "execute_result"
    }
   ],
   "source": [
    "#Checking for null values in the dataset\n",
    "data.isnull().sum()"
   ]
  },
  {
   "cell_type": "code",
   "execution_count": 6,
   "metadata": {},
   "outputs": [
    {
     "name": "stdout",
     "output_type": "stream",
     "text": [
      "(1842743, 23) (9651, 23)\n"
     ]
    }
   ],
   "source": [
    "#Separating legal and illegal instances\n",
    "legal = data[data.is_fraud == 0]\n",
    "illegal = data[data.is_fraud == 1]\n",
    "print(legal.shape, illegal.shape)"
   ]
  },
  {
   "cell_type": "code",
   "execution_count": 7,
   "metadata": {},
   "outputs": [
    {
     "data": {
      "text/plain": [
       "count    1.842743e+06\n",
       "mean     6.765128e+01\n",
       "std      1.535481e+02\n",
       "min      1.000000e+00\n",
       "25%      9.610000e+00\n",
       "50%      4.724000e+01\n",
       "75%      8.256000e+01\n",
       "max      2.894890e+04\n",
       "Name: amt, dtype: float64"
      ]
     },
     "execution_count": 7,
     "metadata": {},
     "output_type": "execute_result"
    }
   ],
   "source": [
    "legal.amt.describe()"
   ]
  },
  {
   "cell_type": "code",
   "execution_count": 8,
   "metadata": {},
   "outputs": [
    {
     "data": {
      "text/plain": [
       "count    9651.000000\n",
       "mean      530.661412\n",
       "std       391.028873\n",
       "min         1.060000\n",
       "25%       240.075000\n",
       "50%       390.000000\n",
       "75%       902.365000\n",
       "max      1376.040000\n",
       "Name: amt, dtype: float64"
      ]
     },
     "execution_count": 8,
     "metadata": {},
     "output_type": "execute_result"
    }
   ],
   "source": [
    "illegal.amt.describe()"
   ]
  },
  {
   "cell_type": "markdown",
   "metadata": {},
   "source": [
    "Since data is imbalanced, undersampling will be used"
   ]
  },
  {
   "cell_type": "code",
   "execution_count": 9,
   "metadata": {},
   "outputs": [
    {
     "name": "stdout",
     "output_type": "stream",
     "text": [
      "(9651, 23)\n"
     ]
    }
   ],
   "source": [
    "#Undersampling\n",
    "legal_under = legal.sample(illegal.shape[0])\n",
    "print(legal_under.shape)"
   ]
  },
  {
   "cell_type": "code",
   "execution_count": 10,
   "metadata": {},
   "outputs": [
    {
     "data": {
      "text/plain": [
       "count    9651.000000\n",
       "mean       68.263172\n",
       "std       140.762047\n",
       "min         1.000000\n",
       "25%         9.520000\n",
       "50%        46.700000\n",
       "75%        82.650000\n",
       "max      5697.900000\n",
       "Name: amt, dtype: float64"
      ]
     },
     "execution_count": 10,
     "metadata": {},
     "output_type": "execute_result"
    }
   ],
   "source": [
    "legal_under.amt.describe()"
   ]
  },
  {
   "cell_type": "markdown",
   "metadata": {},
   "source": [
    "Since mean of original and undersampled data is almost equal, it means there is very less or no inconsistency "
   ]
  },
  {
   "cell_type": "code",
   "execution_count": 11,
   "metadata": {},
   "outputs": [
    {
     "name": "stdout",
     "output_type": "stream",
     "text": [
      "(19302, 23)\n"
     ]
    }
   ],
   "source": [
    "under_sampled_data = pd.concat([legal_under, illegal], axis = 0)\n",
    "print(under_sampled_data.shape)"
   ]
  },
  {
   "cell_type": "markdown",
   "metadata": {},
   "source": [
    "Amount v/s Fraud relation"
   ]
  },
  {
   "cell_type": "code",
   "execution_count": 12,
   "metadata": {},
   "outputs": [
    {
     "data": {
      "text/plain": [
       "<matplotlib.legend.Legend at 0x1fb468d47f0>"
      ]
     },
     "execution_count": 12,
     "metadata": {},
     "output_type": "execute_result"
    },
    {
     "data": {
      "image/png": "[encoded data removed]",
      "text/plain": [
       "<Figure size 432x288 with 1 Axes>"
      ]
     },
     "metadata": {
      "needs_background": "light"
     },
     "output_type": "display_data"
    }
   ],
   "source": [
    "fig = sns.histplot(x = 'amt', data = under_sampled_data[under_sampled_data.amt <= 1000],\n",
    "    hue = 'is_fraud', stat = 'count', multiple = 'dodge', common_norm = False)\n",
    "fig.set_xlabel('Transaction Amount in USD')\n",
    "fig.set_ylabel('Count of fraud vs legal in different amount range')\n",
    "plt.legend(title = 'Category', labels = ['Fraud', 'Legal'])"
   ]
  },
  {
   "cell_type": "markdown",
   "metadata": {},
   "source": [
    "This shows a clear relation. While most legal transactions occur near price range of $200 and less, illegal transactions rises at around $250 to $300 and then again at around $650 to $700 and more. Also, illegal transactions, also occur below $200 in some small amount range.\n",
    "Hence, amount is an important feature or indicator."
   ]
  },
  {
   "cell_type": "markdown",
   "metadata": {},
   "source": [
    "Finding states with highest and lowest fraud rates."
   ]
  },
  {
   "cell_type": "code",
   "execution_count": 13,
   "metadata": {},
   "outputs": [
    {
     "data": {
      "text/plain": [
       "Text(0.5, 1.0, 'The Percentage of Fraudulent over Non-Fraudulent Transcations in Each State')"
      ]
     },
     "execution_count": 13,
     "metadata": {},
     "output_type": "execute_result"
    },
    {
     "data": {
      "image/png": "[encoded data removed]",
      "text/plain": [
       "<Figure size 432x288 with 1 Axes>"
      ]
     },
     "metadata": {
      "needs_background": "light"
     },
     "output_type": "display_data"
    }
   ],
   "source": [
    "a = under_sampled_data['state'][under_sampled_data.is_fraud == 0].value_counts(normalize = True)   #legal\n",
    "a = a.to_frame()\n",
    "a = a.reset_index()\n",
    "a.columns = ['State', 'Type']\n",
    "\n",
    "b = under_sampled_data['state'][under_sampled_data.is_fraud == 1].value_counts(normalize = True)   #fraud\n",
    "b = b.to_frame()\n",
    "b = b.reset_index()\n",
    "b.columns = ['State', 'Type']\n",
    "\n",
    "merged = a.merge(b, on = 'State')\n",
    "merged['Diff']=merged['Type_y']-merged['Type_x']\n",
    "merged['Diff'] = merged['Diff'] * 100\n",
    "merged = merged.sort_values('Diff')\n",
    "\n",
    "fig2 = sns.barplot(data = merged, x = 'State',y = 'Diff')\n",
    "fig2.set_xlabel('State')\n",
    "fig2.set_ylabel('Percentage Difference')\n",
    "plt.title('The Percentage of Fraudulent over Non-Fraudulent Transcations in Each State')"
   ]
  },
  {
   "cell_type": "markdown",
   "metadata": {},
   "source": [
    "State with highest fraud percentage cases - NY | State with highest legal percentage cases - TX\n",
    "Although, this can't decide the legality or illegality of transaction cases, it gives important insights on which states are more fradulent cases than others."
   ]
  },
  {
   "cell_type": "markdown",
   "metadata": {},
   "source": [
    "Gender v/s Fraud relation (can be dropped)"
   ]
  },
  {
   "cell_type": "code",
   "execution_count": 14,
   "metadata": {},
   "outputs": [
    {
     "data": {
      "text/plain": [
       "<matplotlib.legend.Legend at 0x1fb4690b130>"
      ]
     },
     "execution_count": 14,
     "metadata": {},
     "output_type": "execute_result"
    },
    {
     "data": {
      "image/png": "[encoded data removed]",
      "text/plain": [
       "<Figure size 432x288 with 1 Axes>"
      ]
     },
     "metadata": {
      "needs_background": "light"
     },
     "output_type": "display_data"
    }
   ],
   "source": [
    "fig3 = sns.histplot(data = under_sampled_data, x = 'gender', hue = 'is_fraud', stat = 'percent', \n",
    "                    multiple = 'dodge')\n",
    "fig3.set_xlabel('Gender')\n",
    "fig3.set_ylabel('Percent of fraud v/s legal cases')\n",
    "fig3.legend(title='Type', labels=['Fraud', 'Not Fraud'])"
   ]
  },
  {
   "cell_type": "markdown",
   "metadata": {},
   "source": [
    "The above histograph suggests that gender is not an important feature for fraudulent transactions."
   ]
  },
  {
   "cell_type": "markdown",
   "metadata": {},
   "source": [
    "Age v/s Fraud relation"
   ]
  },
  {
   "cell_type": "code",
   "execution_count": 15,
   "metadata": {},
   "outputs": [
    {
     "data": {
      "text/plain": [
       "<matplotlib.legend.Legend at 0x1fb4690ad40>"
      ]
     },
     "execution_count": 15,
     "metadata": {},
     "output_type": "execute_result"
    },
    {
     "data": {
      "image/png": "[encoded data removed]",
      "text/plain": [
       "<Figure size 432x288 with 1 Axes>"
      ]
     },
     "metadata": {
      "needs_background": "light"
     },
     "output_type": "display_data"
    }
   ],
   "source": [
    "under_sampled_data['Age'] = dt.date.today().year - pd.to_datetime(under_sampled_data['dob']).dt.year\n",
    "fig3 = sns.kdeplot(data = under_sampled_data, x = 'Age', hue = 'is_fraud')\n",
    "\n",
    "fig3.set_xlabel(\"Age\")\n",
    "fig3.set_ylabel(\"Distribution\")\n",
    "fig3.legend(title = 'Type', labels = ['Fraud', 'Legal'])"
   ]
  },
  {
   "cell_type": "markdown",
   "metadata": {},
   "source": [
    "The above plot clearly shows that older people are more prone to frauds as compared to the younger ones."
   ]
  },
  {
   "cell_type": "code",
   "execution_count": 16,
   "metadata": {},
   "outputs": [
    {
     "data": {
      "text/plain": [
       "count    1.930200e+04\n",
       "mean     4.069015e+17\n",
       "std      1.293978e+18\n",
       "min      6.041621e+10\n",
       "25%      1.800184e+14\n",
       "50%      3.519607e+15\n",
       "75%      4.610061e+15\n",
       "max      4.992346e+18\n",
       "Name: cc_num, dtype: float64"
      ]
     },
     "execution_count": 16,
     "metadata": {},
     "output_type": "execute_result"
    }
   ],
   "source": [
    "under_sampled_data.cc_num.describe()"
   ]
  },
  {
   "cell_type": "markdown",
   "metadata": {},
   "source": [
    "Category v/s Fraud"
   ]
  },
  {
   "cell_type": "code",
   "execution_count": 17,
   "metadata": {},
   "outputs": [
    {
     "data": {
      "text/plain": [
       "Text(0.5, 1.0, 'The Percentage Difference of Fraudulent over Non-Fraudulent Transations in Each Spending Category ')"
      ]
     },
     "execution_count": 17,
     "metadata": {},
     "output_type": "execute_result"
    },
    {
     "data": {
      "image/png": "[encoded data removed]",
      "text/plain": [
       "<Figure size 432x288 with 1 Axes>"
      ]
     },
     "metadata": {
      "needs_background": "light"
     },
     "output_type": "display_data"
    }
   ],
   "source": [
    "a = data['category'][data.is_fraud == 0].value_counts(normalize = True).to_frame().reset_index()\n",
    "a.columns = ['category', 'type']\n",
    "\n",
    "b = data['category'][data.is_fraud == 1].value_counts(normalize = True).to_frame().reset_index()\n",
    "b.columns = ['category','type']\n",
    "\n",
    "ab = a.merge(b, on = 'category')\n",
    "ab['Diff'] = ab['type_y'] - ab['type_x']\n",
    "\n",
    "fig = sns.barplot(y = 'Diff',x = 'category',data = ab.sort_values('Diff', ascending = False))\n",
    "fig.set_xlabel('Transaction Category')\n",
    "fig.set_ylabel('Percent fraud')\n",
    "plt.title('The Percentage Difference of Fraudulent over Non-Fraudulent Transations in Each Spending Category ')"
   ]
  },
  {
   "cell_type": "markdown",
   "metadata": {},
   "source": [
    "This shows a clear pattern that most fraud happens in case of shopping_net category and least in home category."
   ]
  },
  {
   "cell_type": "markdown",
   "metadata": {},
   "source": [
    "Dropping irrelevant columns to clear noise from data"
   ]
  },
  {
   "cell_type": "code",
   "execution_count": 18,
   "metadata": {},
   "outputs": [
    {
     "name": "stdout",
     "output_type": "stream",
     "text": [
      "Index(['category', 'amt', 'is_fraud', 'Age'], dtype='object')\n"
     ]
    }
   ],
   "source": [
    "clear_data = under_sampled_data.drop(['Unnamed: 0', 'trans_date_trans_time', 'merchant', 'cc_num',\n",
    "            'first', 'last', 'gender', 'street', 'city', 'state', 'zip', 'lat', 'long',\n",
    "            'city_pop', 'job', 'dob', 'trans_num', 'unix_time', 'merch_lat', 'merch_long'], axis = 1)\n",
    "print(clear_data.columns)"
   ]
  },
  {
   "cell_type": "code",
   "execution_count": 19,
   "metadata": {},
   "outputs": [
    {
     "data": {
      "text/html": [
       "<div>\n",
       "<style scoped>\n",
       "    .dataframe tbody tr th:only-of-type {\n",
       "        vertical-align: middle;\n",
       "    }\n",
       "\n",
       "    .dataframe tbody tr th {\n",
       "        vertical-align: top;\n",
       "    }\n",
       "\n",
       "    .dataframe thead th {\n",
       "        text-align: right;\n",
       "    }\n",
       "</style>\n",
       "<table border=\"1\" class=\"dataframe\">\n",
       "  <thead>\n",
       "    <tr style=\"text-align: right;\">\n",
       "      <th></th>\n",
       "      <th>category</th>\n",
       "      <th>amt</th>\n",
       "      <th>Age</th>\n",
       "      <th>is_fraud</th>\n",
       "    </tr>\n",
       "  </thead>\n",
       "  <tbody>\n",
       "    <tr>\n",
       "      <th>239674</th>\n",
       "      <td>personal_care</td>\n",
       "      <td>8.95</td>\n",
       "      <td>76</td>\n",
       "      <td>0</td>\n",
       "    </tr>\n",
       "    <tr>\n",
       "      <th>517563</th>\n",
       "      <td>health_fitness</td>\n",
       "      <td>109.34</td>\n",
       "      <td>66</td>\n",
       "      <td>0</td>\n",
       "    </tr>\n",
       "    <tr>\n",
       "      <th>359683</th>\n",
       "      <td>kids_pets</td>\n",
       "      <td>30.58</td>\n",
       "      <td>64</td>\n",
       "      <td>0</td>\n",
       "    </tr>\n",
       "    <tr>\n",
       "      <th>331486</th>\n",
       "      <td>gas_transport</td>\n",
       "      <td>38.74</td>\n",
       "      <td>23</td>\n",
       "      <td>0</td>\n",
       "    </tr>\n",
       "    <tr>\n",
       "      <th>849592</th>\n",
       "      <td>shopping_net</td>\n",
       "      <td>2.31</td>\n",
       "      <td>50</td>\n",
       "      <td>0</td>\n",
       "    </tr>\n",
       "  </tbody>\n",
       "</table>\n",
       "</div>"
      ],
      "text/plain": [
       "              category     amt  Age  is_fraud\n",
       "239674   personal_care    8.95   76         0\n",
       "517563  health_fitness  109.34   66         0\n",
       "359683       kids_pets   30.58   64         0\n",
       "331486   gas_transport   38.74   23         0\n",
       "849592    shopping_net    2.31   50         0"
      ]
     },
     "execution_count": 19,
     "metadata": {},
     "output_type": "execute_result"
    }
   ],
   "source": [
    "column_titles = ['category', 'amt', 'Age', 'is_fraud']\n",
    "clear_data = clear_data.reindex(columns = column_titles)\n",
    "clear_data.head()"
   ]
  },
  {
   "cell_type": "code",
   "execution_count": 20,
   "metadata": {},
   "outputs": [
    {
     "data": {
      "text/plain": [
       "<bound method IndexOpsMixin.value_counts of 239674     personal_care\n",
       "517563    health_fitness\n",
       "359683         kids_pets\n",
       "331486     gas_transport\n",
       "849592      shopping_net\n",
       "               ...      \n",
       "517197      shopping_pos\n",
       "517274      shopping_pos\n",
       "517341      shopping_net\n",
       "517529       grocery_pos\n",
       "517571          misc_net\n",
       "Name: category, Length: 19302, dtype: object>"
      ]
     },
     "execution_count": 20,
     "metadata": {},
     "output_type": "execute_result"
    }
   ],
   "source": [
    "clear_data['category'].value_counts"
   ]
  },
  {
   "cell_type": "code",
   "execution_count": 21,
   "metadata": {},
   "outputs": [
    {
     "data": {
      "text/html": [
       "<div>\n",
       "<style scoped>\n",
       "    .dataframe tbody tr th:only-of-type {\n",
       "        vertical-align: middle;\n",
       "    }\n",
       "\n",
       "    .dataframe tbody tr th {\n",
       "        vertical-align: top;\n",
       "    }\n",
       "\n",
       "    .dataframe thead th {\n",
       "        text-align: right;\n",
       "    }\n",
       "</style>\n",
       "<table border=\"1\" class=\"dataframe\">\n",
       "  <thead>\n",
       "    <tr style=\"text-align: right;\">\n",
       "      <th></th>\n",
       "      <th>amt</th>\n",
       "      <th>Age</th>\n",
       "      <th>is_fraud</th>\n",
       "      <th>category_entertainment</th>\n",
       "      <th>category_food_dining</th>\n",
       "      <th>category_gas_transport</th>\n",
       "      <th>category_grocery_net</th>\n",
       "      <th>category_grocery_pos</th>\n",
       "      <th>category_health_fitness</th>\n",
       "      <th>category_home</th>\n",
       "      <th>category_kids_pets</th>\n",
       "      <th>category_misc_net</th>\n",
       "      <th>category_misc_pos</th>\n",
       "      <th>category_personal_care</th>\n",
       "      <th>category_shopping_net</th>\n",
       "      <th>category_shopping_pos</th>\n",
       "      <th>category_travel</th>\n",
       "    </tr>\n",
       "  </thead>\n",
       "  <tbody>\n",
       "    <tr>\n",
       "      <th>count</th>\n",
       "      <td>19302.000000</td>\n",
       "      <td>19302.000000</td>\n",
       "      <td>19302.000000</td>\n",
       "      <td>19302.000000</td>\n",
       "      <td>19302.000000</td>\n",
       "      <td>19302.000000</td>\n",
       "      <td>19302.000000</td>\n",
       "      <td>19302.000000</td>\n",
       "      <td>19302.000000</td>\n",
       "      <td>19302.000000</td>\n",
       "      <td>19302.000000</td>\n",
       "      <td>19302.000000</td>\n",
       "      <td>19302.000000</td>\n",
       "      <td>19302.000000</td>\n",
       "      <td>19302.000000</td>\n",
       "      <td>19302.000000</td>\n",
       "      <td>19302.000000</td>\n",
       "    </tr>\n",
       "    <tr>\n",
       "      <th>mean</th>\n",
       "      <td>299.462292</td>\n",
       "      <td>50.066729</td>\n",
       "      <td>0.500000</td>\n",
       "      <td>0.049736</td>\n",
       "      <td>0.045125</td>\n",
       "      <td>0.088592</td>\n",
       "      <td>0.025904</td>\n",
       "      <td>0.163921</td>\n",
       "      <td>0.041602</td>\n",
       "      <td>0.061082</td>\n",
       "      <td>0.060564</td>\n",
       "      <td>0.086416</td>\n",
       "      <td>0.046990</td>\n",
       "      <td>0.052637</td>\n",
       "      <td>0.153041</td>\n",
       "      <td>0.100508</td>\n",
       "      <td>0.023884</td>\n",
       "    </tr>\n",
       "    <tr>\n",
       "      <th>std</th>\n",
       "      <td>373.911881</td>\n",
       "      <td>18.013981</td>\n",
       "      <td>0.500013</td>\n",
       "      <td>0.217404</td>\n",
       "      <td>0.207583</td>\n",
       "      <td>0.284161</td>\n",
       "      <td>0.158853</td>\n",
       "      <td>0.370213</td>\n",
       "      <td>0.199683</td>\n",
       "      <td>0.239486</td>\n",
       "      <td>0.238534</td>\n",
       "      <td>0.280985</td>\n",
       "      <td>0.211623</td>\n",
       "      <td>0.223314</td>\n",
       "      <td>0.360036</td>\n",
       "      <td>0.300684</td>\n",
       "      <td>0.152690</td>\n",
       "    </tr>\n",
       "    <tr>\n",
       "      <th>min</th>\n",
       "      <td>1.000000</td>\n",
       "      <td>17.000000</td>\n",
       "      <td>0.000000</td>\n",
       "      <td>0.000000</td>\n",
       "      <td>0.000000</td>\n",
       "      <td>0.000000</td>\n",
       "      <td>0.000000</td>\n",
       "      <td>0.000000</td>\n",
       "      <td>0.000000</td>\n",
       "      <td>0.000000</td>\n",
       "      <td>0.000000</td>\n",
       "      <td>0.000000</td>\n",
       "      <td>0.000000</td>\n",
       "      <td>0.000000</td>\n",
       "      <td>0.000000</td>\n",
       "      <td>0.000000</td>\n",
       "      <td>0.000000</td>\n",
       "    </tr>\n",
       "    <tr>\n",
       "      <th>25%</th>\n",
       "      <td>20.210000</td>\n",
       "      <td>36.000000</td>\n",
       "      <td>0.000000</td>\n",
       "      <td>0.000000</td>\n",
       "      <td>0.000000</td>\n",
       "      <td>0.000000</td>\n",
       "      <td>0.000000</td>\n",
       "      <td>0.000000</td>\n",
       "      <td>0.000000</td>\n",
       "      <td>0.000000</td>\n",
       "      <td>0.000000</td>\n",
       "      <td>0.000000</td>\n",
       "      <td>0.000000</td>\n",
       "      <td>0.000000</td>\n",
       "      <td>0.000000</td>\n",
       "      <td>0.000000</td>\n",
       "      <td>0.000000</td>\n",
       "    </tr>\n",
       "    <tr>\n",
       "      <th>50%</th>\n",
       "      <td>89.145000</td>\n",
       "      <td>48.000000</td>\n",
       "      <td>0.500000</td>\n",
       "      <td>0.000000</td>\n",
       "      <td>0.000000</td>\n",
       "      <td>0.000000</td>\n",
       "      <td>0.000000</td>\n",
       "      <td>0.000000</td>\n",
       "      <td>0.000000</td>\n",
       "      <td>0.000000</td>\n",
       "      <td>0.000000</td>\n",
       "      <td>0.000000</td>\n",
       "      <td>0.000000</td>\n",
       "      <td>0.000000</td>\n",
       "      <td>0.000000</td>\n",
       "      <td>0.000000</td>\n",
       "      <td>0.000000</td>\n",
       "    </tr>\n",
       "    <tr>\n",
       "      <th>75%</th>\n",
       "      <td>479.495000</td>\n",
       "      <td>62.000000</td>\n",
       "      <td>1.000000</td>\n",
       "      <td>0.000000</td>\n",
       "      <td>0.000000</td>\n",
       "      <td>0.000000</td>\n",
       "      <td>0.000000</td>\n",
       "      <td>0.000000</td>\n",
       "      <td>0.000000</td>\n",
       "      <td>0.000000</td>\n",
       "      <td>0.000000</td>\n",
       "      <td>0.000000</td>\n",
       "      <td>0.000000</td>\n",
       "      <td>0.000000</td>\n",
       "      <td>0.000000</td>\n",
       "      <td>0.000000</td>\n",
       "      <td>0.000000</td>\n",
       "    </tr>\n",
       "    <tr>\n",
       "      <th>max</th>\n",
       "      <td>5697.900000</td>\n",
       "      <td>98.000000</td>\n",
       "      <td>1.000000</td>\n",
       "      <td>1.000000</td>\n",
       "      <td>1.000000</td>\n",
       "      <td>1.000000</td>\n",
       "      <td>1.000000</td>\n",
       "      <td>1.000000</td>\n",
       "      <td>1.000000</td>\n",
       "      <td>1.000000</td>\n",
       "      <td>1.000000</td>\n",
       "      <td>1.000000</td>\n",
       "      <td>1.000000</td>\n",
       "      <td>1.000000</td>\n",
       "      <td>1.000000</td>\n",
       "      <td>1.000000</td>\n",
       "      <td>1.000000</td>\n",
       "    </tr>\n",
       "  </tbody>\n",
       "</table>\n",
       "</div>"
      ],
      "text/plain": [
       "                amt           Age      is_fraud  category_entertainment  \\\n",
       "count  19302.000000  19302.000000  19302.000000            19302.000000   \n",
       "mean     299.462292     50.066729      0.500000                0.049736   \n",
       "std      373.911881     18.013981      0.500013                0.217404   \n",
       "min        1.000000     17.000000      0.000000                0.000000   \n",
       "25%       20.210000     36.000000      0.000000                0.000000   \n",
       "50%       89.145000     48.000000      0.500000                0.000000   \n",
       "75%      479.495000     62.000000      1.000000                0.000000   \n",
       "max     5697.900000     98.000000      1.000000                1.000000   \n",
       "\n",
       "       category_food_dining  category_gas_transport  category_grocery_net  \\\n",
       "count          19302.000000            19302.000000          19302.000000   \n",
       "mean               0.045125                0.088592              0.025904   \n",
       "std                0.207583                0.284161              0.158853   \n",
       "min                0.000000                0.000000              0.000000   \n",
       "25%                0.000000                0.000000              0.000000   \n",
       "50%                0.000000                0.000000              0.000000   \n",
       "75%                0.000000                0.000000              0.000000   \n",
       "max                1.000000                1.000000              1.000000   \n",
       "\n",
       "       category_grocery_pos  category_health_fitness  category_home  \\\n",
       "count          19302.000000             19302.000000   19302.000000   \n",
       "mean               0.163921                 0.041602       0.061082   \n",
       "std                0.370213                 0.199683       0.239486   \n",
       "min                0.000000                 0.000000       0.000000   \n",
       "25%                0.000000                 0.000000       0.000000   \n",
       "50%                0.000000                 0.000000       0.000000   \n",
       "75%                0.000000                 0.000000       0.000000   \n",
       "max                1.000000                 1.000000       1.000000   \n",
       "\n",
       "       category_kids_pets  category_misc_net  category_misc_pos  \\\n",
       "count        19302.000000       19302.000000       19302.000000   \n",
       "mean             0.060564           0.086416           0.046990   \n",
       "std              0.238534           0.280985           0.211623   \n",
       "min              0.000000           0.000000           0.000000   \n",
       "25%              0.000000           0.000000           0.000000   \n",
       "50%              0.000000           0.000000           0.000000   \n",
       "75%              0.000000           0.000000           0.000000   \n",
       "max              1.000000           1.000000           1.000000   \n",
       "\n",
       "       category_personal_care  category_shopping_net  category_shopping_pos  \\\n",
       "count            19302.000000           19302.000000           19302.000000   \n",
       "mean                 0.052637               0.153041               0.100508   \n",
       "std                  0.223314               0.360036               0.300684   \n",
       "min                  0.000000               0.000000               0.000000   \n",
       "25%                  0.000000               0.000000               0.000000   \n",
       "50%                  0.000000               0.000000               0.000000   \n",
       "75%                  0.000000               0.000000               0.000000   \n",
       "max                  1.000000               1.000000               1.000000   \n",
       "\n",
       "       category_travel  \n",
       "count     19302.000000  \n",
       "mean          0.023884  \n",
       "std           0.152690  \n",
       "min           0.000000  \n",
       "25%           0.000000  \n",
       "50%           0.000000  \n",
       "75%           0.000000  \n",
       "max           1.000000  "
      ]
     },
     "execution_count": 21,
     "metadata": {},
     "output_type": "execute_result"
    }
   ],
   "source": [
    "#One Hot Encoding to change categorical data into numerical values\n",
    "one_hot_encoded = pd.get_dummies(clear_data, columns = ['category'])\n",
    "one_hot_encoded.describe()"
   ]
  },
  {
   "cell_type": "markdown",
   "metadata": {},
   "source": [
    "Building model and evaluation"
   ]
  },
  {
   "cell_type": "code",
   "execution_count": 22,
   "metadata": {},
   "outputs": [],
   "source": [
    "#Splitting into training and testing set.\n",
    "x = one_hot_encoded.drop(['is_fraud'], axis = 1)\n",
    "y = one_hot_encoded['is_fraud']\n",
    "x_train, x_test, y_train, y_test = train_test_split(x, y, test_size = 0.2, stratify = y, random_state = True)"
   ]
  },
  {
   "cell_type": "markdown",
   "metadata": {},
   "source": [
    "Decision tree"
   ]
  },
  {
   "cell_type": "code",
   "execution_count": 23,
   "metadata": {},
   "outputs": [],
   "source": [
    "from sklearn.linear_model import LogisticRegression\n",
    "model = LogisticRegression()\n",
    "#model = tree.DecisionTreeClassifier()"
   ]
  },
  {
   "cell_type": "code",
   "execution_count": 24,
   "metadata": {},
   "outputs": [
    {
     "data": {
      "text/html": [
       "<style>#sk-container-id-1 {color: black;background-color: white;}#sk-container-id-1 pre{padding: 0;}#sk-container-id-1 div.sk-toggleable {background-color: white;}#sk-container-id-1 label.sk-toggleable__label {cursor: pointer;display: block;width: 100%;margin-bottom: 0;padding: 0.3em;box-sizing: border-box;text-align: center;}#sk-container-id-1 label.sk-toggleable__label-arrow:before {content: \"▸\";float: left;margin-right: 0.25em;color: #696969;}#sk-container-id-1 label.sk-toggleable__label-arrow:hover:before {color: black;}#sk-container-id-1 div.sk-estimator:hover label.sk-toggleable__label-arrow:before {color: black;}#sk-container-id-1 div.sk-toggleable__content {max-height: 0;max-width: 0;overflow: hidden;text-align: left;background-color: #f0f8ff;}#sk-container-id-1 div.sk-toggleable__content pre {margin: 0.2em;color: black;border-radius: 0.25em;background-color: #f0f8ff;}#sk-container-id-1 input.sk-toggleable__control:checked~div.sk-toggleable__content {max-height: 200px;max-width: 100%;overflow: auto;}#sk-container-id-1 input.sk-toggleable__control:checked~label.sk-toggleable__label-arrow:before {content: \"▾\";}#sk-container-id-1 div.sk-estimator input.sk-toggleable__control:checked~label.sk-toggleable__label {background-color: #d4ebff;}#sk-container-id-1 div.sk-label input.sk-toggleable__control:checked~label.sk-toggleable__label {background-color: #d4ebff;}#sk-container-id-1 input.sk-hidden--visually {border: 0;clip: rect(1px 1px 1px 1px);clip: rect(1px, 1px, 1px, 1px);height: 1px;margin: -1px;overflow: hidden;padding: 0;position: absolute;width: 1px;}#sk-container-id-1 div.sk-estimator {font-family: monospace;background-color: #f0f8ff;border: 1px dotted black;border-radius: 0.25em;box-sizing: border-box;margin-bottom: 0.5em;}#sk-container-id-1 div.sk-estimator:hover {background-color: #d4ebff;}#sk-container-id-1 div.sk-parallel-item::after {content: \"\";width: 100%;border-bottom: 1px solid gray;flex-grow: 1;}#sk-container-id-1 div.sk-label:hover label.sk-toggleable__label {background-color: #d4ebff;}#sk-container-id-1 div.sk-serial::before {content: \"\";position: absolute;border-left: 1px solid gray;box-sizing: border-box;top: 0;bottom: 0;left: 50%;z-index: 0;}#sk-container-id-1 div.sk-serial {display: flex;flex-direction: column;align-items: center;background-color: white;padding-right: 0.2em;padding-left: 0.2em;position: relative;}#sk-container-id-1 div.sk-item {position: relative;z-index: 1;}#sk-container-id-1 div.sk-parallel {display: flex;align-items: stretch;justify-content: center;background-color: white;position: relative;}#sk-container-id-1 div.sk-item::before, #sk-container-id-1 div.sk-parallel-item::before {content: \"\";position: absolute;border-left: 1px solid gray;box-sizing: border-box;top: 0;bottom: 0;left: 50%;z-index: -1;}#sk-container-id-1 div.sk-parallel-item {display: flex;flex-direction: column;z-index: 1;position: relative;background-color: white;}#sk-container-id-1 div.sk-parallel-item:first-child::after {align-self: flex-end;width: 50%;}#sk-container-id-1 div.sk-parallel-item:last-child::after {align-self: flex-start;width: 50%;}#sk-container-id-1 div.sk-parallel-item:only-child::after {width: 0;}#sk-container-id-1 div.sk-dashed-wrapped {border: 1px dashed gray;margin: 0 0.4em 0.5em 0.4em;box-sizing: border-box;padding-bottom: 0.4em;background-color: white;}#sk-container-id-1 div.sk-label label {font-family: monospace;font-weight: bold;display: inline-block;line-height: 1.2em;}#sk-container-id-1 div.sk-label-container {text-align: center;}#sk-container-id-1 div.sk-container {/* jupyter's `normalize.less` sets `[hidden] { display: none; }` but bootstrap.min.css set `[hidden] { display: none !important; }` so we also need the `!important` here to be able to override the default hidden behavior on the sphinx rendered scikit-learn.org. See: https://github.com/scikit-learn/scikit-learn/issues/21755 */display: inline-block !important;position: relative;}#sk-container-id-1 div.sk-text-repr-fallback {display: none;}</style><div id=\"sk-container-id-1\" class=\"sk-top-container\"><div class=\"sk-text-repr-fallback\"><pre>DecisionTreeClassifier()</pre><b>In a Jupyter environment, please rerun this cell to show the HTML representation or trust the notebook. <br />On GitHub, the HTML representation is unable to render, please try loading this page with nbviewer.org.</b></div><div class=\"sk-container\" hidden><div class=\"sk-item\"><div class=\"sk-estimator sk-toggleable\"><input class=\"sk-toggleable__control sk-hidden--visually\" id=\"sk-estimator-id-1\" type=\"checkbox\" checked><label for=\"sk-estimator-id-1\" class=\"sk-toggleable__label sk-toggleable__label-arrow\">DecisionTreeClassifier</label><div class=\"sk-toggleable__content\"><pre>DecisionTreeClassifier()</pre></div></div></div></div></div>"
      ],
      "text/plain": [
       "DecisionTreeClassifier()"
      ]
     },
     "execution_count": 24,
     "metadata": {},
     "output_type": "execute_result"
    }
   ],
   "source": [
    "model.fit(x_train, y_train)"
   ]
  },
  {
   "cell_type": "code",
   "execution_count": 25,
   "metadata": {},
   "outputs": [],
   "source": [
    "#For testing data\n",
    "predicted_value = model.predict(x_test)"
   ]
  },
  {
   "cell_type": "code",
   "execution_count": 26,
   "metadata": {},
   "outputs": [
    {
     "name": "stdout",
     "output_type": "stream",
     "text": [
      "Classification report:\n",
      "               precision    recall  f1-score   support\n",
      "\n",
      "           0       0.95      0.95      0.95      1930\n",
      "           1       0.95      0.95      0.95      1931\n",
      "\n",
      "    accuracy                           0.95      3861\n",
      "   macro avg       0.95      0.95      0.95      3861\n",
      "weighted avg       0.95      0.95      0.95      3861\n",
      "\n",
      "Confusion matrix:\n",
      " [[1842   88]\n",
      " [  90 1841]]\n"
     ]
    }
   ],
   "source": [
    "print('Classification report:\\n', classification_report(y_test, predicted_value))\n",
    "c_mat = confusion_matrix(y_true = y_test, y_pred = predicted_value)\n",
    "print('Confusion matrix:\\n', c_mat)"
   ]
  },
  {
   "cell_type": "code",
   "execution_count": 27,
   "metadata": {},
   "outputs": [],
   "source": [
    "#For training data\n",
    "predicted_value2 = model.predict(x_train)"
   ]
  },
  {
   "cell_type": "code",
   "execution_count": 28,
   "metadata": {},
   "outputs": [
    {
     "name": "stdout",
     "output_type": "stream",
     "text": [
      "Classification report:\n",
      "               precision    recall  f1-score   support\n",
      "\n",
      "           0       1.00      1.00      1.00      7721\n",
      "           1       1.00      1.00      1.00      7720\n",
      "\n",
      "    accuracy                           1.00     15441\n",
      "   macro avg       1.00      1.00      1.00     15441\n",
      "weighted avg       1.00      1.00      1.00     15441\n",
      "\n",
      "Confusion matrix:\n",
      " [[7721    0]\n",
      " [   2 7718]]\n"
     ]
    }
   ],
   "source": [
    "print('Classification report:\\n', classification_report(y_train, predicted_value2))\n",
    "c_mat2 = confusion_matrix(y_true = y_train, y_pred = predicted_value2)\n",
    "print('Confusion matrix:\\n', c_mat2)"
   ]
  }
 ],
 "metadata": {
  "kernelspec": {
   "display_name": "Python 3.10.5 64-bit",
   "language": "python",
   "name": "python3"
  },
  "language_info": {
   "codemirror_mode": {
    "name": "ipython",
    "version": 3
   },
   "file_extension": ".py",
   "mimetype": "text/x-python",
   "name": "python",
   "nbconvert_exporter": "python",
   "pygments_lexer": "ipython3",
   "version": "3.10.5"
  },
  "orig_nbformat": 4,
  "vscode": {
   "interpreter": {
    "hash": "27f6fea6f47ae512550f0b8facdbd035a93e1dd89633f7bf2dd00a2502c71d0d"
   }
  }
 },
 "nbformat": 4,
 "nbformat_minor": 2
}
